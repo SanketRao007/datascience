{
 "cells": [
  {
   "cell_type": "code",
   "execution_count": 3,
   "metadata": {},
   "outputs": [],
   "source": [
    "import numpy as np"
   ]
  },
  {
   "cell_type": "code",
   "execution_count": 4,
   "metadata": {},
   "outputs": [],
   "source": [
    "# # fv = pv(1+r)n\n",
    "# for annuity\n",
    "# fv = pmt([1+r]n -1)/r\n",
    "# pv = pmt[1 - (1/(1+r)n]/r"
   ]
  },
  {
   "cell_type": "code",
   "execution_count": 12,
   "metadata": {},
   "outputs": [
    {
     "data": {
      "text/plain": [
       "0.04980720763732511"
      ]
     },
     "execution_count": 12,
     "metadata": {},
     "output_type": "execute_result"
    }
   ],
   "source": [
    "# 1. peter parker bought a car in 1990 for 8500 , now price is 18500 in 2006, find annualised rate of price increase\n",
    "rate = np.rate(16,0,-8500,18500)\n",
    "rate"
   ]
  },
  {
   "cell_type": "code",
   "execution_count": 14,
   "metadata": {},
   "outputs": [
    {
     "data": {
      "text/plain": [
       "-0.0292227525856128"
      ]
     },
     "execution_count": 14,
     "metadata": {},
     "output_type": "execute_result"
    }
   ],
   "source": [
    "# apply inflation\n",
    "# inflation adusted rate is called real rate, \n",
    "# 4.98 is nominal\n",
    "# nominal > real\n",
    "# real is after accounting for inflation\n",
    "# if during that period inflation is 2 %\n",
    "# then \n",
    "r =(1 -  (1+rate)/ 1.02)\n",
    "r\n",
    "# so r is 2.93"
   ]
  },
  {
   "cell_type": "code",
   "execution_count": 17,
   "metadata": {},
   "outputs": [
    {
     "name": "stderr",
     "output_type": "stream",
     "text": [
      "D:\\Anaconda\\lib\\site-packages\\numpy\\lib\\financial.py:283: RuntimeWarning: divide by zero encountered in long_scalars\n",
      "  A = -(fv + pv)/(pmt+0)\n"
     ]
    },
    {
     "data": {
      "text/plain": [
       "array(18.01293668)"
      ]
     },
     "execution_count": 17,
     "metadata": {},
     "output_type": "execute_result"
    }
   ],
   "source": [
    "# i would like to have 1000000 , i have 250000, 8 % is rate, when will i  achieve the goal\n",
    "# np.nper(rate, pmt, pv, fv=0, when='end')\n",
    "per = np.nper(0.08, 0, -250000, 1000000)\n",
    "per\n"
   ]
  },
  {
   "cell_type": "code",
   "execution_count": 19,
   "metadata": {},
   "outputs": [
    {
     "data": {
      "text/plain": [
       "59998.828337048006"
      ]
     },
     "execution_count": 19,
     "metadata": {},
     "output_type": "execute_result"
    }
   ],
   "source": [
    "# jack and diane have 10,000 in thier money market account,\n",
    "# if they plan to deposit 1500 at beginning of each year for 15 years and account earns \n",
    "# 5.85 % annually then how much will they make in 15 years \n",
    "# numpy.fv(rate, nper, pmt, pv, when='end')\n",
    "fv=np.fv(0.0585,15,-1500,-10000,when='begin')\n",
    "fv\n",
    "\n"
   ]
  },
  {
   "cell_type": "code",
   "execution_count": 21,
   "metadata": {},
   "outputs": [
    {
     "name": "stderr",
     "output_type": "stream",
     "text": [
      "D:\\Anaconda\\lib\\site-packages\\numpy\\lib\\financial.py:283: RuntimeWarning: divide by zero encountered in long_scalars\n",
      "  A = -(fv + pv)/(pmt+0)\n"
     ]
    },
    {
     "data": {
      "text/plain": [
       "array(11.00673904)"
      ]
     },
     "execution_count": 21,
     "metadata": {},
     "output_type": "execute_result"
    }
   ],
   "source": [
    "# if steve can earn 6.5 % annyallu in how much time will 10k double\n",
    "per = np.nper(0.065,0,-10000,20000)\n",
    "per"
   ]
  },
  {
   "cell_type": "code",
   "execution_count": null,
   "metadata": {},
   "outputs": [],
   "source": []
  }
 ],
 "metadata": {
  "kernelspec": {
   "display_name": "Python 3",
   "language": "python",
   "name": "python3"
  },
  "language_info": {
   "codemirror_mode": {
    "name": "ipython",
    "version": 3
   },
   "file_extension": ".py",
   "mimetype": "text/x-python",
   "name": "python",
   "nbconvert_exporter": "python",
   "pygments_lexer": "ipython3",
   "version": "3.7.0"
  }
 },
 "nbformat": 4,
 "nbformat_minor": 2
}
